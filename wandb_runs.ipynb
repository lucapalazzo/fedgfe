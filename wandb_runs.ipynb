{
 "cells": [
  {
   "cell_type": "code",
   "execution_count": 14,
   "metadata": {},
   "outputs": [
    {
     "name": "stdout",
     "output_type": "stream",
     "text": [
      "Experiment nIID 50C 10LE 50GR RR0.1 (6urcso0f) running on worker3 has global round # 50 and is running round 35 (70.00%)\n",
      "Experiment nIID 50C 10LE 50GR RR0.4 (d9c5433m) running on dgx has global round # 50 and is running round 24 (48.00%)\n",
      "Experiment nIID 50C 10LE 50GR RR0.2 (092bhjb9) running on 3090-server has global round # 50 and is running round 43 (86.00%)\n",
      "Experiment nIID 50C 10LE 50GR RR0.3 (2jjvqjpu) running on 3090-server has global round # 50 and is running round 43 (86.00%)\n",
      "Experiment nIID 50C 10LE 50GR RR0 (44k5fifw) running on worker3 has global round # 50 and is running round 44 (88.00%)\n",
      "Experiment nIID RR0.2 AEP 10C 100R 0.005LR PT SRMacro (sfnfyz9v) running on dgx has global round # 100 and is running round 71 (71.00%)\n",
      "Experiment nIID RR0.2 AEP 10C 100R 0.005LR PT SRMicro (kf8nxwzq) running on dgx has global round # 100 and is running round 71 (71.00%)\n",
      "Experiment nIID RR0.2 AEP 50C 100R 0.005LR PT SRMacro (e8mpjjbr) running on dgx has global round # 100 and is running round 35 (35.00%)\n",
      "Experiment nIID RR0.2 AEP 50C 100R 0.005LR PT SRMicro (c6nlvu42) running on dgx has global round # 100 and is running round 35 (35.00%)\n",
      "Experiment nIID RR0 50C 100R 0.005LR PT SRMacro (x81vsk3v) running on dgx has global round # 100 and is running round 54 (54.00%)\n",
      "Experiment nIID RR0 10C 100R 0.005LR PT SR (5wg1ld47) running on dgx has global round # 100 and is running round 95 (95.00%)\n",
      "Experiment nIID RR0.2 AEP 10C 100R 0.005LR PT SRBad (k7z6jwax) running on dgx has global round # 100 and is running round 93 (93.00%)\n"
     ]
    }
   ],
   "source": [
    "# a = input(\"Enter a number: \")\n",
    "# print (a)\n",
    "import json\n",
    "import wandb\n",
    "\n",
    "commit_id = \"d3f1b5c2f0c4e5f9f7c0c6c1f5e4c1f6\"\n",
    "\n",
    "# wandb_runs = wandb.Api().runs(\"ngslung/fedRewind\", {\"Commit\": commit_id, \"state\": \"running\"})\n",
    "# wandb_runs = wandb.Api().runs(\"ngslung/fedRewind\", { \"state\": \"running\", \"host\": \"dgx\"})\n",
    "wandb_runs = wandb.Api().runs(\"ngslung/fedRewind\", { \"state\": \"running\"} ) \n",
    "\n",
    "for run in wandb_runs:\n",
    "    # print (run)\n",
    "    meta = json.load(run.file(\"wandb-metadata.json\").download(replace=True))\n",
    "    # print (meta['args'])\n",
    "    args = meta['args']\n",
    "    summary = run.summary\n",
    "    gr = [ args[i+1] for i in range(len(args)) if args[i] == '--global_rounds' ][0]\n",
    "    if ( 'round' not in summary ):\n",
    "        continue\n",
    "    rr = summary['round']\n",
    "    percent = rr/int(gr)*100.0\n",
    "    print( f\"Experiment {run.name} ({run.id}) running on {run.metadata['host']} has global round # {gr} and is running round {rr} ({percent:.2f}%)\")\n",
    "    \n",
    "    \n",
    "    # delimeter = \" \"\n",
    "\n",
    "    # print (delimeter.join(args))"
   ]
  }
 ],
 "metadata": {
  "kernelspec": {
   "display_name": "fl",
   "language": "python",
   "name": "python3"
  },
  "language_info": {
   "codemirror_mode": {
    "name": "ipython",
    "version": 3
   },
   "file_extension": ".py",
   "mimetype": "text/x-python",
   "name": "python",
   "nbconvert_exporter": "python",
   "pygments_lexer": "ipython3",
   "version": "3.12.3"
  }
 },
 "nbformat": 4,
 "nbformat_minor": 2
}
