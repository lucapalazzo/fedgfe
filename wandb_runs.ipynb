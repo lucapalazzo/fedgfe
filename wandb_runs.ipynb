{
 "cells": [
  {
   "cell_type": "code",
   "execution_count": 17,
   "metadata": {},
   "outputs": [
    {
     "name": "stdout",
     "output_type": "stream",
     "text": [
      "Experiment true-meadow-521 (gi8m3rzb) running on dgx has global round # 50 and is running round 6 (12.00%)\n",
      "Experiment nIID 50C 10LE 50GR RR0.1 (6urcso0f) running on worker3 has global round # 50 and is running round 41 (82.00%)\n",
      "Experiment nIID 50C 10LE 50GR RR0.4 (d9c5433m) running on dgx has global round # 50 and is running round 27 (54.00%)\n",
      "Experiment nIID 50C 10LE 50GR RR0.2 (092bhjb9) running on 3090-server has global round # 50 and is running round 48 (96.00%)\n",
      "Experiment nIID 50C 10LE 50GR RR0.3 (2jjvqjpu) running on 3090-server has global round # 50 and is running round 47 (94.00%)\n",
      "Experiment nIID 50C 10LE 50GR RR0 (44k5fifw) running on worker3 has global round # 50 and is running round 49 (98.00%)\n",
      "Experiment nIID RR0.2 AEP 10C 100R 0.005LR PT SRMacro (sfnfyz9v) running on dgx has global round # 100 and is running round 76 (76.00%)\n",
      "Experiment nIID RR0.2 AEP 10C 100R 0.005LR PT SRMicro (kf8nxwzq) running on dgx has global round # 100 and is running round 75 (75.00%)\n",
      "Experiment nIID RR0.2 AEP 50C 100R 0.005LR PT SRMacro (e8mpjjbr) running on dgx has global round # 100 and is running round 38 (38.00%)\n",
      "Experiment nIID RR0.2 AEP 50C 100R 0.005LR PT SRMicro (c6nlvu42) running on dgx has global round # 100 and is running round 38 (38.00%)\n",
      "Experiment nIID RR0 50C 100R 0.005LR PT SRMacro (x81vsk3v) running on dgx has global round # 100 and is running round 56 (56.00%)\n",
      "Experiment nIID RR0 10C 100R 0.005LR PT SR (5wg1ld47) running on dgx has global round # 100 and is running round 99 (99.00%)\n",
      "Experiment nIID RR0.2 AEP 10C 100R 0.005LR PT SRBad (k7z6jwax) running on dgx has global round # 100 and is running round 97 (97.00%)\n"
     ]
    }
   ],
   "source": [
    "# a = input(\"Enter a number: \")\n",
    "# print (a)\n",
    "import json\n",
    "import wandb\n",
    "\n",
    "commit_id = \"d3f1b5c2f0c4e5f9f7c0c6c1f5e4c1f6\"\n",
    "\n",
    "# wandb_runs = wandb.Api().runs(\"ngslung/fedRewind\", {\"Commit\": commit_id, \"state\": \"running\"})\n",
    "# wandb_runs = wandb.Api().runs(\"ngslung/fedRewind\", { \"state\": \"running\", \"host\": \"dgx\"})\n",
    "wandb_runs = wandb.Api().runs(\"ngslung/fedRewind\", { \"state\": \"running\"} ) \n",
    "\n",
    "for run in wandb_runs:\n",
    "    # print (run)\n",
    "    meta = json.load(run.file(\"wandb-metadata.json\").download(replace=True))\n",
    "    # print (meta['args'])\n",
    "    args = meta['args']\n",
    "    summary = run.summary\n",
    "    gr = [ args[i+1] for i in range(len(args)) if args[i] == '--global_rounds' ][0]\n",
    "    if ( 'round' not in summary ):\n",
    "        continue\n",
    "    rr = summary['round']\n",
    "    percent = rr/int(gr)*100.0\n",
    "    print( f\"Experiment {run.name} ({run.id}) running on {run.metadata['host']} has global round # {gr} and is running round {rr} ({percent:.2f}%)\")\n",
    "    \n",
    "    \n",
    "    # delimeter = \" \"\n",
    "\n",
    "    # print (delimeter.join(args))"
   ]
  }
 ],
 "metadata": {
  "kernelspec": {
   "display_name": "fl",
   "language": "python",
   "name": "python3"
  },
  "language_info": {
   "codemirror_mode": {
    "name": "ipython",
    "version": 3
   },
   "file_extension": ".py",
   "mimetype": "text/x-python",
   "name": "python",
   "nbconvert_exporter": "python",
   "pygments_lexer": "ipython3",
   "version": "3.12.3"
  }
 },
 "nbformat": 4,
 "nbformat_minor": 2
}
