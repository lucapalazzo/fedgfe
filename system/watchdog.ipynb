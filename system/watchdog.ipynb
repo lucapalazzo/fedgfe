{
 "cells": [
  {
   "cell_type": "code",
   "execution_count": 1,
   "metadata": {},
   "outputs": [],
   "source": [
    "import time\n",
    "from watchdog.observers import Observer\n",
    "from watchdog.events import FileSystemEventHandler\n",
    "import matplotlib.pyplot as plt\n",
    "import numpy as np\n",
    "import os\n",
    "from torchvision.io import read_image \n",
    "\n",
    "\n",
    "path = \"/home/lpala/fedgfe/output_images\"\n",
    "\n",
    "def plot_image(image_sample):\n",
    "    plt.imshow(image_sample, cmap='gray')  # Puoi cambiare 'gray' se l'immagine è a colori\n",
    "    plt.axis('off')  # Rimuovi gli assi per una visualizzazione pulita\n",
    "    plt.show()\n",
    "    plt.close()\n",
    "\n",
    "def read_file_image(image_path):\n",
    "    try:\n",
    "        image_sample = read_image(str(image_path))\n",
    "    except:\n",
    "        return None\n",
    "    return image_sample\n",
    "\n",
    "def get_images(path):\n",
    "     if ( os.path.isdir(path) != True):\n",
    "        image_sample = read_file_image(path)\n",
    "        if image_sample is not None:\n",
    "            image_sample = image_sample.permute(1, 2, 0)\n",
    "            plot_image(image_sample)\n",
    "\n",
    "class  MyHandler(FileSystemEventHandler):\n",
    "    def on_modified(self,  event):\n",
    "        print(f'event type: {event.event_type} path : {event.src_path}')\n",
    "        if event.is_directory:\n",
    "            return\n",
    "        get_images(event.src_path)\n",
    "         \n",
    "    def on_created(self,  event):\n",
    "        print(f'event type: {event.event_type} path : {event.src_path}')\n",
    "       \n",
    "    def  on_deleted(self,  event):\n",
    "         print(f'event type: {event.event_type} path : {event.src_path}')\n"
   ]
  },
  {
   "cell_type": "code",
   "execution_count": null,
   "metadata": {},
   "outputs": [],
   "source": [
    "\n",
    "event_handler = MyHandler()\n",
    "observer = Observer()\n",
    "observer.schedule(event_handler,  path=path,  recursive=False)\n",
    "observer.start()\n",
    "\n",
    "try:\n",
    "    while  True:\n",
    "        time.sleep(1)\n",
    "except  KeyboardInterrupt:\n",
    "    observer.stop()\n",
    "observer.join()"
   ]
  }
 ],
 "metadata": {
  "kernelspec": {
   "display_name": "flvit",
   "language": "python",
   "name": "python3"
  },
  "language_info": {
   "codemirror_mode": {
    "name": "ipython",
    "version": 3
   },
   "file_extension": ".py",
   "mimetype": "text/x-python",
   "name": "python",
   "nbconvert_exporter": "python",
   "pygments_lexer": "ipython3",
   "version": "3.12.2"
  }
 },
 "nbformat": 4,
 "nbformat_minor": 2
}
