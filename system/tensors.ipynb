{
 "cells": [
  {
   "cell_type": "code",
   "execution_count": null,
   "metadata": {},
   "outputs": [
    {
     "name": "stdout",
     "output_type": "stream",
     "text": [
      "order: [2, 0, 1] <class 'list'>\n"
     ]
    },
    {
     "ename": "TypeError",
     "evalue": "slice indices must be integers or None or have an __index__ method",
     "output_type": "error",
     "traceback": [
      "\u001b[0;31m---------------------------------------------------------------------------\u001b[0m",
      "\u001b[0;31mTypeError\u001b[0m                                 Traceback (most recent call last)",
      "Cell \u001b[0;32mIn[32], line 15\u001b[0m\n\u001b[1;32m     12\u001b[0m order \u001b[38;5;241m=\u001b[39m [ \u001b[38;5;241m2\u001b[39m, \u001b[38;5;241m0\u001b[39m, \u001b[38;5;241m1\u001b[39m ]\n\u001b[1;32m     13\u001b[0m \u001b[38;5;28mprint\u001b[39m ( \u001b[38;5;124mf\u001b[39m\u001b[38;5;124m\"\u001b[39m\u001b[38;5;124morder: \u001b[39m\u001b[38;5;132;01m{\u001b[39;00morder\u001b[38;5;132;01m}\u001b[39;00m\u001b[38;5;124m \u001b[39m\u001b[38;5;132;01m{\u001b[39;00m\u001b[38;5;28mtype\u001b[39m(order)\u001b[38;5;132;01m}\u001b[39;00m\u001b[38;5;124m\"\u001b[39m)\n\u001b[0;32m---> 15\u001b[0m ordered \u001b[38;5;241m=\u001b[39m c[:order:]\n\u001b[1;32m     17\u001b[0m \u001b[38;5;66;03m# print(f\"concatenated: {c} {c.shape}\")\u001b[39;00m\n\u001b[1;32m     18\u001b[0m \u001b[38;5;66;03m# print(f\"stacked: {d} {d.shape} ({a.shape}, {b.shape})\")  \u001b[39;00m\n\u001b[1;32m     19\u001b[0m \u001b[38;5;66;03m# print(f\"stacked: {e} {e.shape}\")\u001b[39;00m\n\u001b[1;32m     20\u001b[0m \u001b[38;5;66;03m# print(f\"viewed: {f} {f.shape}\")\u001b[39;00m\n\u001b[1;32m     21\u001b[0m \u001b[38;5;66;03m# print(f\"viewed: {g} {g.shape}\")\u001b[39;00m\n\u001b[1;32m     23\u001b[0m \u001b[38;5;28mprint\u001b[39m ( \u001b[38;5;124mf\u001b[39m\u001b[38;5;124m\"\u001b[39m\u001b[38;5;124ma: \u001b[39m\u001b[38;5;132;01m{\u001b[39;00ma\u001b[38;5;132;01m}\u001b[39;00m\u001b[38;5;124m \u001b[39m\u001b[38;5;132;01m{\u001b[39;00ma\u001b[38;5;241m.\u001b[39mshape\u001b[38;5;132;01m}\u001b[39;00m\u001b[38;5;124m\"\u001b[39m)\n",
      "\u001b[0;31mTypeError\u001b[0m: slice indices must be integers or None or have an __index__ method"
     ]
    }
   ],
   "source": [
    "import torch\n",
    "import numpy as np\n",
    "\n",
    "a = torch.tensor([[1, 2, 3], [4, 5, 6]])\n",
    "b = torch.tensor([[4, 5, 6], [7, 8, 9]])\n",
    "l = [a, b]\n",
    "c = torch.cat((a, b), dim=0)\n",
    "d = torch.stack((a, b), dim=0)\n",
    "e = torch.stack(l, dim=0)\n",
    "f = a.view(3, 2)\n",
    "g = e.view(3, 4)\n",
    "order = array( 2, 0, 1 )\n",
    "print ( f\"order: {order} {type(order)}\")\n",
    "\n",
    "ordered = c[:order:]\n",
    "\n",
    "# print(f\"concatenated: {c} {c.shape}\")\n",
    "# print(f\"stacked: {d} {d.shape} ({a.shape}, {b.shape})\")  \n",
    "# print(f\"stacked: {e} {e.shape}\")\n",
    "# print(f\"viewed: {f} {f.shape}\")\n",
    "# print(f\"viewed: {g} {g.shape}\")\n",
    "\n",
    "print ( f\"a: {a} {a.shape}\")\n",
    "\n",
    "print ( f\"ordered: {ordered} {ordered.shape}\")"
   ]
  }
 ],
 "metadata": {
  "kernelspec": {
   "display_name": "flvit",
   "language": "python",
   "name": "python3"
  },
  "language_info": {
   "codemirror_mode": {
    "name": "ipython",
    "version": 3
   },
   "file_extension": ".py",
   "mimetype": "text/x-python",
   "name": "python",
   "nbconvert_exporter": "python",
   "pygments_lexer": "ipython3",
   "version": "3.12.2"
  }
 },
 "nbformat": 4,
 "nbformat_minor": 2
}
